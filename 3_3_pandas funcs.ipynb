{
 "cells": [
  {
   "cell_type": "code",
   "execution_count": 1,
   "id": "58d9c065",
   "metadata": {},
   "outputs": [],
   "source": [
    "import pandas as pd"
   ]
  },
  {
   "cell_type": "markdown",
   "id": "b9b7e11d",
   "metadata": {},
   "source": [
    "# pandas functions"
   ]
  },
  {
   "cell_type": "code",
   "execution_count": 2,
   "id": "08f8e78d",
   "metadata": {},
   "outputs": [],
   "source": [
    "data=pd.read_csv(\"data_f.csv\")"
   ]
  },
  {
   "cell_type": "code",
   "execution_count": 3,
   "id": "acd41f6e",
   "metadata": {},
   "outputs": [
    {
     "data": {
      "text/html": [
       "<div>\n",
       "<style scoped>\n",
       "    .dataframe tbody tr th:only-of-type {\n",
       "        vertical-align: middle;\n",
       "    }\n",
       "\n",
       "    .dataframe tbody tr th {\n",
       "        vertical-align: top;\n",
       "    }\n",
       "\n",
       "    .dataframe thead th {\n",
       "        text-align: right;\n",
       "    }\n",
       "</style>\n",
       "<table border=\"1\" class=\"dataframe\">\n",
       "  <thead>\n",
       "    <tr style=\"text-align: right;\">\n",
       "      <th></th>\n",
       "      <th>ID</th>\n",
       "      <th>Date House was Sold</th>\n",
       "      <th>Sale Price</th>\n",
       "      <th>No of Bedrooms</th>\n",
       "      <th>No of Bathrooms</th>\n",
       "      <th>Flat Area (in Sqft)</th>\n",
       "      <th>Lot Area (in Sqft)</th>\n",
       "      <th>No of Floors</th>\n",
       "      <th>Waterfront View</th>\n",
       "      <th>No of Times Visited</th>\n",
       "      <th>...</th>\n",
       "      <th>Overall Grade</th>\n",
       "      <th>Area of the House from Basement (in Sqft)</th>\n",
       "      <th>Basement Area (in Sqft)</th>\n",
       "      <th>Age of House (in Years)</th>\n",
       "      <th>Renovated Year</th>\n",
       "      <th>Zipcode</th>\n",
       "      <th>Latitude</th>\n",
       "      <th>Longitude</th>\n",
       "      <th>Living Area after Renovation (in Sqft)</th>\n",
       "      <th>Lot Area after Renovation (in Sqft)</th>\n",
       "    </tr>\n",
       "  </thead>\n",
       "  <tbody>\n",
       "    <tr>\n",
       "      <th>0</th>\n",
       "      <td>7129300520</td>\n",
       "      <td>14 October 2017</td>\n",
       "      <td>221900.0</td>\n",
       "      <td>3</td>\n",
       "      <td>1.00</td>\n",
       "      <td>1180.0</td>\n",
       "      <td>5650.0</td>\n",
       "      <td>1.0</td>\n",
       "      <td>No</td>\n",
       "      <td>None</td>\n",
       "      <td>...</td>\n",
       "      <td>7</td>\n",
       "      <td>1180.0</td>\n",
       "      <td>0</td>\n",
       "      <td>63</td>\n",
       "      <td>0</td>\n",
       "      <td>98178.0</td>\n",
       "      <td>47.5112</td>\n",
       "      <td>-122.257</td>\n",
       "      <td>1340.0</td>\n",
       "      <td>5650</td>\n",
       "    </tr>\n",
       "    <tr>\n",
       "      <th>1</th>\n",
       "      <td>6414100192</td>\n",
       "      <td>14 December 2017</td>\n",
       "      <td>538000.0</td>\n",
       "      <td>3</td>\n",
       "      <td>2.25</td>\n",
       "      <td>2570.0</td>\n",
       "      <td>7242.0</td>\n",
       "      <td>2.0</td>\n",
       "      <td>No</td>\n",
       "      <td>None</td>\n",
       "      <td>...</td>\n",
       "      <td>7</td>\n",
       "      <td>2170.0</td>\n",
       "      <td>400</td>\n",
       "      <td>67</td>\n",
       "      <td>1991</td>\n",
       "      <td>98125.0</td>\n",
       "      <td>47.7210</td>\n",
       "      <td>-122.319</td>\n",
       "      <td>1690.0</td>\n",
       "      <td>7639</td>\n",
       "    </tr>\n",
       "    <tr>\n",
       "      <th>2</th>\n",
       "      <td>5631500400</td>\n",
       "      <td>15 February 2016</td>\n",
       "      <td>180000.0</td>\n",
       "      <td>2</td>\n",
       "      <td>1.00</td>\n",
       "      <td>770.0</td>\n",
       "      <td>10000.0</td>\n",
       "      <td>1.0</td>\n",
       "      <td>No</td>\n",
       "      <td>None</td>\n",
       "      <td>...</td>\n",
       "      <td>6</td>\n",
       "      <td>770.0</td>\n",
       "      <td>0</td>\n",
       "      <td>85</td>\n",
       "      <td>0</td>\n",
       "      <td>98028.0</td>\n",
       "      <td>47.7379</td>\n",
       "      <td>-122.233</td>\n",
       "      <td>2720.0</td>\n",
       "      <td>8062</td>\n",
       "    </tr>\n",
       "    <tr>\n",
       "      <th>3</th>\n",
       "      <td>2487200875</td>\n",
       "      <td>14 December 2017</td>\n",
       "      <td>604000.0</td>\n",
       "      <td>4</td>\n",
       "      <td>3.00</td>\n",
       "      <td>1960.0</td>\n",
       "      <td>5000.0</td>\n",
       "      <td>1.0</td>\n",
       "      <td>No</td>\n",
       "      <td>None</td>\n",
       "      <td>...</td>\n",
       "      <td>7</td>\n",
       "      <td>1050.0</td>\n",
       "      <td>910</td>\n",
       "      <td>53</td>\n",
       "      <td>0</td>\n",
       "      <td>98136.0</td>\n",
       "      <td>47.5208</td>\n",
       "      <td>-122.393</td>\n",
       "      <td>1360.0</td>\n",
       "      <td>5000</td>\n",
       "    </tr>\n",
       "    <tr>\n",
       "      <th>4</th>\n",
       "      <td>1954400510</td>\n",
       "      <td>15 February 2016</td>\n",
       "      <td>510000.0</td>\n",
       "      <td>3</td>\n",
       "      <td>2.00</td>\n",
       "      <td>1680.0</td>\n",
       "      <td>8080.0</td>\n",
       "      <td>1.0</td>\n",
       "      <td>No</td>\n",
       "      <td>None</td>\n",
       "      <td>...</td>\n",
       "      <td>8</td>\n",
       "      <td>1680.0</td>\n",
       "      <td>0</td>\n",
       "      <td>31</td>\n",
       "      <td>0</td>\n",
       "      <td>98074.0</td>\n",
       "      <td>47.6168</td>\n",
       "      <td>-122.045</td>\n",
       "      <td>1800.0</td>\n",
       "      <td>7503</td>\n",
       "    </tr>\n",
       "    <tr>\n",
       "      <th>...</th>\n",
       "      <td>...</td>\n",
       "      <td>...</td>\n",
       "      <td>...</td>\n",
       "      <td>...</td>\n",
       "      <td>...</td>\n",
       "      <td>...</td>\n",
       "      <td>...</td>\n",
       "      <td>...</td>\n",
       "      <td>...</td>\n",
       "      <td>...</td>\n",
       "      <td>...</td>\n",
       "      <td>...</td>\n",
       "      <td>...</td>\n",
       "      <td>...</td>\n",
       "      <td>...</td>\n",
       "      <td>...</td>\n",
       "      <td>...</td>\n",
       "      <td>...</td>\n",
       "      <td>...</td>\n",
       "      <td>...</td>\n",
       "      <td>...</td>\n",
       "    </tr>\n",
       "    <tr>\n",
       "      <th>21608</th>\n",
       "      <td>263000018</td>\n",
       "      <td>14 May 2017</td>\n",
       "      <td>360000.0</td>\n",
       "      <td>3</td>\n",
       "      <td>2.50</td>\n",
       "      <td>1530.0</td>\n",
       "      <td>1131.0</td>\n",
       "      <td>3.0</td>\n",
       "      <td>No</td>\n",
       "      <td>None</td>\n",
       "      <td>...</td>\n",
       "      <td>8</td>\n",
       "      <td>1530.0</td>\n",
       "      <td>0</td>\n",
       "      <td>9</td>\n",
       "      <td>0</td>\n",
       "      <td>98103.0</td>\n",
       "      <td>47.6993</td>\n",
       "      <td>-122.346</td>\n",
       "      <td>1530.0</td>\n",
       "      <td>1509</td>\n",
       "    </tr>\n",
       "    <tr>\n",
       "      <th>21609</th>\n",
       "      <td>6600060120</td>\n",
       "      <td>15 February 2016</td>\n",
       "      <td>400000.0</td>\n",
       "      <td>4</td>\n",
       "      <td>2.50</td>\n",
       "      <td>2310.0</td>\n",
       "      <td>5813.0</td>\n",
       "      <td>2.0</td>\n",
       "      <td>No</td>\n",
       "      <td>None</td>\n",
       "      <td>...</td>\n",
       "      <td>8</td>\n",
       "      <td>2310.0</td>\n",
       "      <td>0</td>\n",
       "      <td>4</td>\n",
       "      <td>0</td>\n",
       "      <td>98146.0</td>\n",
       "      <td>47.5107</td>\n",
       "      <td>-122.362</td>\n",
       "      <td>1830.0</td>\n",
       "      <td>7200</td>\n",
       "    </tr>\n",
       "    <tr>\n",
       "      <th>21610</th>\n",
       "      <td>1523300141</td>\n",
       "      <td>14 June 2017</td>\n",
       "      <td>402101.0</td>\n",
       "      <td>2</td>\n",
       "      <td>0.75</td>\n",
       "      <td>1020.0</td>\n",
       "      <td>1350.0</td>\n",
       "      <td>2.0</td>\n",
       "      <td>No</td>\n",
       "      <td>None</td>\n",
       "      <td>...</td>\n",
       "      <td>7</td>\n",
       "      <td>1020.0</td>\n",
       "      <td>0</td>\n",
       "      <td>9</td>\n",
       "      <td>0</td>\n",
       "      <td>98144.0</td>\n",
       "      <td>47.5944</td>\n",
       "      <td>-122.299</td>\n",
       "      <td>1020.0</td>\n",
       "      <td>2007</td>\n",
       "    </tr>\n",
       "    <tr>\n",
       "      <th>21611</th>\n",
       "      <td>291310100</td>\n",
       "      <td>15 January 2016</td>\n",
       "      <td>400000.0</td>\n",
       "      <td>3</td>\n",
       "      <td>2.50</td>\n",
       "      <td>1600.0</td>\n",
       "      <td>2388.0</td>\n",
       "      <td>2.0</td>\n",
       "      <td>No</td>\n",
       "      <td>None</td>\n",
       "      <td>...</td>\n",
       "      <td>8</td>\n",
       "      <td>1600.0</td>\n",
       "      <td>0</td>\n",
       "      <td>14</td>\n",
       "      <td>0</td>\n",
       "      <td>98027.0</td>\n",
       "      <td>47.5345</td>\n",
       "      <td>-122.069</td>\n",
       "      <td>1410.0</td>\n",
       "      <td>1287</td>\n",
       "    </tr>\n",
       "    <tr>\n",
       "      <th>21612</th>\n",
       "      <td>1523300157</td>\n",
       "      <td>14 October 2017</td>\n",
       "      <td>325000.0</td>\n",
       "      <td>2</td>\n",
       "      <td>0.75</td>\n",
       "      <td>1020.0</td>\n",
       "      <td>1076.0</td>\n",
       "      <td>2.0</td>\n",
       "      <td>No</td>\n",
       "      <td>None</td>\n",
       "      <td>...</td>\n",
       "      <td>7</td>\n",
       "      <td>1020.0</td>\n",
       "      <td>0</td>\n",
       "      <td>10</td>\n",
       "      <td>0</td>\n",
       "      <td>98144.0</td>\n",
       "      <td>47.5941</td>\n",
       "      <td>-122.299</td>\n",
       "      <td>1020.0</td>\n",
       "      <td>1357</td>\n",
       "    </tr>\n",
       "  </tbody>\n",
       "</table>\n",
       "<p>21613 rows × 21 columns</p>\n",
       "</div>"
      ],
      "text/plain": [
       "               ID Date House was Sold  Sale Price  No of Bedrooms  \\\n",
       "0      7129300520     14 October 2017    221900.0               3   \n",
       "1      6414100192    14 December 2017    538000.0               3   \n",
       "2      5631500400    15 February 2016    180000.0               2   \n",
       "3      2487200875    14 December 2017    604000.0               4   \n",
       "4      1954400510    15 February 2016    510000.0               3   \n",
       "...           ...                 ...         ...             ...   \n",
       "21608   263000018         14 May 2017    360000.0               3   \n",
       "21609  6600060120    15 February 2016    400000.0               4   \n",
       "21610  1523300141        14 June 2017    402101.0               2   \n",
       "21611   291310100     15 January 2016    400000.0               3   \n",
       "21612  1523300157     14 October 2017    325000.0               2   \n",
       "\n",
       "       No of Bathrooms  Flat Area (in Sqft)  Lot Area (in Sqft)  No of Floors  \\\n",
       "0                 1.00               1180.0              5650.0           1.0   \n",
       "1                 2.25               2570.0              7242.0           2.0   \n",
       "2                 1.00                770.0             10000.0           1.0   \n",
       "3                 3.00               1960.0              5000.0           1.0   \n",
       "4                 2.00               1680.0              8080.0           1.0   \n",
       "...                ...                  ...                 ...           ...   \n",
       "21608             2.50               1530.0              1131.0           3.0   \n",
       "21609             2.50               2310.0              5813.0           2.0   \n",
       "21610             0.75               1020.0              1350.0           2.0   \n",
       "21611             2.50               1600.0              2388.0           2.0   \n",
       "21612             0.75               1020.0              1076.0           2.0   \n",
       "\n",
       "      Waterfront View No of Times Visited  ... Overall Grade  \\\n",
       "0                  No                None  ...             7   \n",
       "1                  No                None  ...             7   \n",
       "2                  No                None  ...             6   \n",
       "3                  No                None  ...             7   \n",
       "4                  No                None  ...             8   \n",
       "...               ...                 ...  ...           ...   \n",
       "21608              No                None  ...             8   \n",
       "21609              No                None  ...             8   \n",
       "21610              No                None  ...             7   \n",
       "21611              No                None  ...             8   \n",
       "21612              No                None  ...             7   \n",
       "\n",
       "       Area of the House from Basement (in Sqft)  Basement Area (in Sqft)  \\\n",
       "0                                         1180.0                        0   \n",
       "1                                         2170.0                      400   \n",
       "2                                          770.0                        0   \n",
       "3                                         1050.0                      910   \n",
       "4                                         1680.0                        0   \n",
       "...                                          ...                      ...   \n",
       "21608                                     1530.0                        0   \n",
       "21609                                     2310.0                        0   \n",
       "21610                                     1020.0                        0   \n",
       "21611                                     1600.0                        0   \n",
       "21612                                     1020.0                        0   \n",
       "\n",
       "       Age of House (in Years)  Renovated Year  Zipcode  Latitude  Longitude  \\\n",
       "0                           63               0  98178.0   47.5112   -122.257   \n",
       "1                           67            1991  98125.0   47.7210   -122.319   \n",
       "2                           85               0  98028.0   47.7379   -122.233   \n",
       "3                           53               0  98136.0   47.5208   -122.393   \n",
       "4                           31               0  98074.0   47.6168   -122.045   \n",
       "...                        ...             ...      ...       ...        ...   \n",
       "21608                        9               0  98103.0   47.6993   -122.346   \n",
       "21609                        4               0  98146.0   47.5107   -122.362   \n",
       "21610                        9               0  98144.0   47.5944   -122.299   \n",
       "21611                       14               0  98027.0   47.5345   -122.069   \n",
       "21612                       10               0  98144.0   47.5941   -122.299   \n",
       "\n",
       "       Living Area after Renovation (in Sqft)  \\\n",
       "0                                      1340.0   \n",
       "1                                      1690.0   \n",
       "2                                      2720.0   \n",
       "3                                      1360.0   \n",
       "4                                      1800.0   \n",
       "...                                       ...   \n",
       "21608                                  1530.0   \n",
       "21609                                  1830.0   \n",
       "21610                                  1020.0   \n",
       "21611                                  1410.0   \n",
       "21612                                  1020.0   \n",
       "\n",
       "       Lot Area after Renovation (in Sqft)  \n",
       "0                                     5650  \n",
       "1                                     7639  \n",
       "2                                     8062  \n",
       "3                                     5000  \n",
       "4                                     7503  \n",
       "...                                    ...  \n",
       "21608                                 1509  \n",
       "21609                                 7200  \n",
       "21610                                 2007  \n",
       "21611                                 1287  \n",
       "21612                                 1357  \n",
       "\n",
       "[21613 rows x 21 columns]"
      ]
     },
     "execution_count": 3,
     "metadata": {},
     "output_type": "execute_result"
    }
   ],
   "source": [
    "data"
   ]
  },
  {
   "cell_type": "code",
   "execution_count": 4,
   "id": "973fb7a7",
   "metadata": {},
   "outputs": [],
   "source": [
    "#calculate mean of sale price wrt condition of the house:\n",
    "# as we know the correlation between numeric variable and categorical variable cant be calculated we calculate the mean sale \n",
    "#price based on condition of the house"
   ]
  },
  {
   "cell_type": "code",
   "execution_count": 5,
   "id": "7b696794",
   "metadata": {},
   "outputs": [
    {
     "name": "stderr",
     "output_type": "stream",
     "text": [
      "C:\\Users\\vishvajeet\\AppData\\Local\\Temp\\ipykernel_83304\\2786123987.py:6: SettingWithCopyWarning: \n",
      "A value is trying to be set on a copy of a slice from a DataFrame\n",
      "\n",
      "See the caveats in the documentation: https://pandas.pydata.org/pandas-docs/stable/user_guide/indexing.html#returning-a-view-versus-a-copy\n",
      "  data[\"column_sale\"][data[\"Condition of the House\"]==str(i)] = data[\"Sale Price\"][data[\"Condition of the House\"]==str(i)].mean()\n"
     ]
    },
    {
     "data": {
      "text/plain": [
       "0        542130.611206\n",
       "1        542130.611206\n",
       "2        542130.611206\n",
       "3        612577.742504\n",
       "4        542130.611206\n",
       "             ...      \n",
       "21608    542130.611206\n",
       "21609    542130.611206\n",
       "21610    542130.611206\n",
       "21611    542130.611206\n",
       "21612    542130.611206\n",
       "Name: column_sale, Length: 21613, dtype: float64"
      ]
     },
     "execution_count": 5,
     "metadata": {},
     "output_type": "execute_result"
    }
   ],
   "source": [
    "#initializing new column in datset:\n",
    "data[\"column_sale\"]=0\n",
    "\n",
    "#calculating mean of sale price based on condition of the house\n",
    "for i in data[\"Condition of the House\"].unique():\n",
    "    data[\"column_sale\"][data[\"Condition of the House\"]==str(i)] = data[\"Sale Price\"][data[\"Condition of the House\"]==str(i)].mean()\n",
    "data[\"column_sale\"]"
   ]
  },
  {
   "cell_type": "code",
   "execution_count": 6,
   "id": "06117b4d",
   "metadata": {},
   "outputs": [
    {
     "data": {
      "image/png": "[encoded data removed]",
      "text/plain": [
       "<Figure size 640x480 with 1 Axes>"
      ]
     },
     "metadata": {},
     "output_type": "display_data"
    }
   ],
   "source": [
    "#plotting graph :\n",
    "import matplotlib.pyplot as plt\n",
    "\n",
    "plt.bar(data[\"Condition of the House\"].unique(),data[\"column_sale\"].unique())\n",
    "plt.xlabel(\"condition of the house\")\n",
    "plt.ylabel(\"sale price\")\n",
    "plt.title(\"mean sale price vs condition of the house\")\n",
    "plt.show()"
   ]
  },
  {
   "cell_type": "code",
   "execution_count": 7,
   "id": "6f003079",
   "metadata": {},
   "outputs": [
    {
     "name": "stderr",
     "output_type": "stream",
     "text": [
      "C:\\Users\\vishvajeet\\AppData\\Local\\Temp\\ipykernel_83304\\577708614.py:11: SettingWithCopyWarning: \n",
      "A value is trying to be set on a copy of a slice from a DataFrame\n",
      "\n",
      "See the caveats in the documentation: https://pandas.pydata.org/pandas-docs/stable/user_guide/indexing.html#returning-a-view-versus-a-copy\n",
      "  data[\"column_sale1\"][(data[C]==str(i)) & (data[Z]==j)]=data[\"Sale Price\"][(data[C]==str(i)) & (data[Z]==j)].mean()\n"
     ]
    }
   ],
   "source": [
    "#calculating mean sale price based on more than two variables\n",
    "\n",
    "data[\"column_sale1\"]=0\n",
    "\n",
    "S=\"Sale Price\"\n",
    "C=\"Condition of the House\"\n",
    "Z=\"Zipcode\"\n",
    "\n",
    "for i in data[\"Condition of the House\"].unique():\n",
    "    for j in data[\"Zipcode\"].unique():\n",
    "        data[\"column_sale1\"][(data[C]==str(i)) & (data[Z]==j)]=data[\"Sale Price\"][(data[C]==str(i)) & (data[Z]==j)].mean()\n",
    "\n"
   ]
  },
  {
   "cell_type": "code",
   "execution_count": 8,
   "id": "10555f0a",
   "metadata": {},
   "outputs": [
    {
     "data": {
      "text/plain": [
       "281"
      ]
     },
     "execution_count": 8,
     "metadata": {},
     "output_type": "execute_result"
    }
   ],
   "source": [
    "len(data[\"column_sale1\"].unique())"
   ]
  },
  {
   "cell_type": "markdown",
   "id": "1a0c897c",
   "metadata": {},
   "source": [
    "# this complex dependecy can be reduced using pandas.groupby() "
   ]
  },
  {
   "cell_type": "code",
   "execution_count": 9,
   "id": "d763efc2",
   "metadata": {},
   "outputs": [
    {
     "data": {
      "text/plain": [
       "Condition of the House  Zipcode\n",
       "Bad                     98004.0    1.500000e+06\n",
       "                        98006.0    3.725000e+05\n",
       "                        98011.0    2.700000e+05\n",
       "                        98023.0    1.500000e+05\n",
       "                        98024.0    1.420000e+05\n",
       "                                       ...     \n",
       "Okay                    98155.0    3.601833e+05\n",
       "                        98166.0    2.165625e+05\n",
       "                        98168.0    1.809389e+05\n",
       "                        98178.0    1.750000e+05\n",
       "                        98198.0    2.705325e+05\n",
       "Name: Sale Price, Length: 283, dtype: float64"
      ]
     },
     "execution_count": 9,
     "metadata": {},
     "output_type": "execute_result"
    }
   ],
   "source": [
    "#calculating mean sale price based on condition of the house and zipcode\n",
    "column_sale2 = data.groupby([\"Condition of the House\",\"Zipcode\"])[\"Sale Price\"].mean()\n",
    "column_sale2"
   ]
  },
  {
   "cell_type": "markdown",
   "id": "477fbcf9",
   "metadata": {},
   "source": [
    "# pandas.pivot_table()"
   ]
  },
  {
   "cell_type": "code",
   "execution_count": 10,
   "id": "c84a47c5",
   "metadata": {},
   "outputs": [
    {
     "data": {
      "text/html": [
       "<div>\n",
       "<style scoped>\n",
       "    .dataframe tbody tr th:only-of-type {\n",
       "        vertical-align: middle;\n",
       "    }\n",
       "\n",
       "    .dataframe tbody tr th {\n",
       "        vertical-align: top;\n",
       "    }\n",
       "\n",
       "    .dataframe thead th {\n",
       "        text-align: right;\n",
       "    }\n",
       "</style>\n",
       "<table border=\"1\" class=\"dataframe\">\n",
       "  <thead>\n",
       "    <tr style=\"text-align: right;\">\n",
       "      <th></th>\n",
       "      <th></th>\n",
       "      <th>Sale Price</th>\n",
       "    </tr>\n",
       "    <tr>\n",
       "      <th>Condition of the House</th>\n",
       "      <th>Zipcode</th>\n",
       "      <th></th>\n",
       "    </tr>\n",
       "  </thead>\n",
       "  <tbody>\n",
       "    <tr>\n",
       "      <th rowspan=\"5\" valign=\"top\">Bad</th>\n",
       "      <th>98004.0</th>\n",
       "      <td>1.500000e+06</td>\n",
       "    </tr>\n",
       "    <tr>\n",
       "      <th>98006.0</th>\n",
       "      <td>3.725000e+05</td>\n",
       "    </tr>\n",
       "    <tr>\n",
       "      <th>98011.0</th>\n",
       "      <td>2.700000e+05</td>\n",
       "    </tr>\n",
       "    <tr>\n",
       "      <th>98023.0</th>\n",
       "      <td>1.500000e+05</td>\n",
       "    </tr>\n",
       "    <tr>\n",
       "      <th>98024.0</th>\n",
       "      <td>1.420000e+05</td>\n",
       "    </tr>\n",
       "    <tr>\n",
       "      <th>...</th>\n",
       "      <th>...</th>\n",
       "      <td>...</td>\n",
       "    </tr>\n",
       "    <tr>\n",
       "      <th rowspan=\"5\" valign=\"top\">Okay</th>\n",
       "      <th>98155.0</th>\n",
       "      <td>3.601833e+05</td>\n",
       "    </tr>\n",
       "    <tr>\n",
       "      <th>98166.0</th>\n",
       "      <td>2.165625e+05</td>\n",
       "    </tr>\n",
       "    <tr>\n",
       "      <th>98168.0</th>\n",
       "      <td>1.809389e+05</td>\n",
       "    </tr>\n",
       "    <tr>\n",
       "      <th>98178.0</th>\n",
       "      <td>1.750000e+05</td>\n",
       "    </tr>\n",
       "    <tr>\n",
       "      <th>98198.0</th>\n",
       "      <td>2.705325e+05</td>\n",
       "    </tr>\n",
       "  </tbody>\n",
       "</table>\n",
       "<p>283 rows × 1 columns</p>\n",
       "</div>"
      ],
      "text/plain": [
       "                                  Sale Price\n",
       "Condition of the House Zipcode              \n",
       "Bad                    98004.0  1.500000e+06\n",
       "                       98006.0  3.725000e+05\n",
       "                       98011.0  2.700000e+05\n",
       "                       98023.0  1.500000e+05\n",
       "                       98024.0  1.420000e+05\n",
       "...                                      ...\n",
       "Okay                   98155.0  3.601833e+05\n",
       "                       98166.0  2.165625e+05\n",
       "                       98168.0  1.809389e+05\n",
       "                       98178.0  1.750000e+05\n",
       "                       98198.0  2.705325e+05\n",
       "\n",
       "[283 rows x 1 columns]"
      ]
     },
     "execution_count": 10,
     "metadata": {},
     "output_type": "execute_result"
    }
   ],
   "source": [
    "#calculating mean sale price based on condition of the house and zipcode using pandas.pivot_table():\n",
    "import numpy as np\n",
    "Column_sale3=pd.pivot_table(data,index=[\"Condition of the House\",\"Zipcode\"],values=[\"Sale Price\"],aggfunc=np.mean)\n",
    "Column_sale3\n"
   ]
  },
  {
   "cell_type": "code",
   "execution_count": 11,
   "id": "7a94395c",
   "metadata": {},
   "outputs": [
    {
     "data": {
      "text/html": [
       "<div>\n",
       "<style scoped>\n",
       "    .dataframe tbody tr th:only-of-type {\n",
       "        vertical-align: middle;\n",
       "    }\n",
       "\n",
       "    .dataframe tbody tr th {\n",
       "        vertical-align: top;\n",
       "    }\n",
       "\n",
       "    .dataframe thead tr th {\n",
       "        text-align: left;\n",
       "    }\n",
       "\n",
       "    .dataframe thead tr:last-of-type th {\n",
       "        text-align: right;\n",
       "    }\n",
       "</style>\n",
       "<table border=\"1\" class=\"dataframe\">\n",
       "  <thead>\n",
       "    <tr>\n",
       "      <th></th>\n",
       "      <th colspan=\"5\" halign=\"left\">Sale Price</th>\n",
       "    </tr>\n",
       "    <tr>\n",
       "      <th>Condition of the House</th>\n",
       "      <th>Bad</th>\n",
       "      <th>Excellent</th>\n",
       "      <th>Fair</th>\n",
       "      <th>Good</th>\n",
       "      <th>Okay</th>\n",
       "    </tr>\n",
       "    <tr>\n",
       "      <th>Zipcode</th>\n",
       "      <th></th>\n",
       "      <th></th>\n",
       "      <th></th>\n",
       "      <th></th>\n",
       "      <th></th>\n",
       "    </tr>\n",
       "  </thead>\n",
       "  <tbody>\n",
       "    <tr>\n",
       "      <th>98001.0</th>\n",
       "      <td>NaN</td>\n",
       "      <td>2.425433e+05</td>\n",
       "      <td>2.927207e+05</td>\n",
       "      <td>2.527446e+05</td>\n",
       "      <td>356070.0</td>\n",
       "    </tr>\n",
       "    <tr>\n",
       "      <th>98002.0</th>\n",
       "      <td>NaN</td>\n",
       "      <td>2.216411e+05</td>\n",
       "      <td>2.588868e+05</td>\n",
       "      <td>2.192858e+05</td>\n",
       "      <td>NaN</td>\n",
       "    </tr>\n",
       "    <tr>\n",
       "      <th>98003.0</th>\n",
       "      <td>NaN</td>\n",
       "      <td>3.706800e+05</td>\n",
       "      <td>2.992801e+05</td>\n",
       "      <td>2.809591e+05</td>\n",
       "      <td>235500.0</td>\n",
       "    </tr>\n",
       "    <tr>\n",
       "      <th>98004.0</th>\n",
       "      <td>1500000.0</td>\n",
       "      <td>1.236365e+06</td>\n",
       "      <td>1.527265e+06</td>\n",
       "      <td>1.145915e+06</td>\n",
       "      <td>425000.0</td>\n",
       "    </tr>\n",
       "    <tr>\n",
       "      <th>98005.0</th>\n",
       "      <td>NaN</td>\n",
       "      <td>8.319500e+05</td>\n",
       "      <td>8.668012e+05</td>\n",
       "      <td>7.669397e+05</td>\n",
       "      <td>577750.0</td>\n",
       "    </tr>\n",
       "    <tr>\n",
       "      <th>...</th>\n",
       "      <td>...</td>\n",
       "      <td>...</td>\n",
       "      <td>...</td>\n",
       "      <td>...</td>\n",
       "      <td>...</td>\n",
       "    </tr>\n",
       "    <tr>\n",
       "      <th>98177.0</th>\n",
       "      <td>NaN</td>\n",
       "      <td>8.966313e+05</td>\n",
       "      <td>6.496812e+05</td>\n",
       "      <td>6.665755e+05</td>\n",
       "      <td>NaN</td>\n",
       "    </tr>\n",
       "    <tr>\n",
       "      <th>98178.0</th>\n",
       "      <td>NaN</td>\n",
       "      <td>2.975217e+05</td>\n",
       "      <td>3.094105e+05</td>\n",
       "      <td>3.308419e+05</td>\n",
       "      <td>175000.0</td>\n",
       "    </tr>\n",
       "    <tr>\n",
       "      <th>98188.0</th>\n",
       "      <td>NaN</td>\n",
       "      <td>2.853636e+05</td>\n",
       "      <td>2.900059e+05</td>\n",
       "      <td>2.867413e+05</td>\n",
       "      <td>NaN</td>\n",
       "    </tr>\n",
       "    <tr>\n",
       "      <th>98198.0</th>\n",
       "      <td>NaN</td>\n",
       "      <td>3.215235e+05</td>\n",
       "      <td>2.941619e+05</td>\n",
       "      <td>3.154305e+05</td>\n",
       "      <td>270532.5</td>\n",
       "    </tr>\n",
       "    <tr>\n",
       "      <th>98199.0</th>\n",
       "      <td>NaN</td>\n",
       "      <td>9.338983e+05</td>\n",
       "      <td>7.604974e+05</td>\n",
       "      <td>7.963811e+05</td>\n",
       "      <td>NaN</td>\n",
       "    </tr>\n",
       "  </tbody>\n",
       "</table>\n",
       "<p>70 rows × 5 columns</p>\n",
       "</div>"
      ],
      "text/plain": [
       "                       Sale Price                                            \\\n",
       "Condition of the House        Bad     Excellent          Fair          Good   \n",
       "Zipcode                                                                       \n",
       "98001.0                       NaN  2.425433e+05  2.927207e+05  2.527446e+05   \n",
       "98002.0                       NaN  2.216411e+05  2.588868e+05  2.192858e+05   \n",
       "98003.0                       NaN  3.706800e+05  2.992801e+05  2.809591e+05   \n",
       "98004.0                 1500000.0  1.236365e+06  1.527265e+06  1.145915e+06   \n",
       "98005.0                       NaN  8.319500e+05  8.668012e+05  7.669397e+05   \n",
       "...                           ...           ...           ...           ...   \n",
       "98177.0                       NaN  8.966313e+05  6.496812e+05  6.665755e+05   \n",
       "98178.0                       NaN  2.975217e+05  3.094105e+05  3.308419e+05   \n",
       "98188.0                       NaN  2.853636e+05  2.900059e+05  2.867413e+05   \n",
       "98198.0                       NaN  3.215235e+05  2.941619e+05  3.154305e+05   \n",
       "98199.0                       NaN  9.338983e+05  7.604974e+05  7.963811e+05   \n",
       "\n",
       "                                  \n",
       "Condition of the House      Okay  \n",
       "Zipcode                           \n",
       "98001.0                 356070.0  \n",
       "98002.0                      NaN  \n",
       "98003.0                 235500.0  \n",
       "98004.0                 425000.0  \n",
       "98005.0                 577750.0  \n",
       "...                          ...  \n",
       "98177.0                      NaN  \n",
       "98178.0                 175000.0  \n",
       "98188.0                      NaN  \n",
       "98198.0                 270532.5  \n",
       "98199.0                      NaN  \n",
       "\n",
       "[70 rows x 5 columns]"
      ]
     },
     "execution_count": 11,
     "metadata": {},
     "output_type": "execute_result"
    }
   ],
   "source": [
    "#another way using pivot table which gives proper representation\n",
    "Column_sale3=pd.pivot_table(data,index=[\"Zipcode\"],columns=[\"Condition of the House\"],values=[\"Sale Price\"],aggfunc=np.mean)\n",
    "Column_sale3"
   ]
  },
  {
   "cell_type": "markdown",
   "id": "cd86abc9",
   "metadata": {},
   "source": [
    "# Data Transformation: "
   ]
  },
  {
   "cell_type": "code",
   "execution_count": 12,
   "id": "201810cb",
   "metadata": {},
   "outputs": [
    {
     "data": {
      "text/plain": [
       "0    34.351128\n",
       "1    50.695167\n",
       "2    27.748874\n",
       "3    44.271887\n",
       "4    40.987803\n",
       "Name: plot length, dtype: float64"
      ]
     },
     "execution_count": 12,
     "metadata": {},
     "output_type": "execute_result"
    }
   ],
   "source": [
    "data[\"plot length\"]=data[\"Flat Area (in Sqft)\"]**0.5\n",
    "data[\"plot length\"].head() #this what a data transformation"
   ]
  },
  {
   "cell_type": "code",
   "execution_count": 13,
   "id": "7d15e8cc",
   "metadata": {},
   "outputs": [
    {
     "data": {
      "text/plain": [
       "0     6830.0\n",
       "1     9812.0\n",
       "2    10770.0\n",
       "3     6960.0\n",
       "4     9760.0\n",
       "Name: total area, dtype: float64"
      ]
     },
     "execution_count": 13,
     "metadata": {},
     "output_type": "execute_result"
    }
   ],
   "source": [
    "data[\"total area\"]=data[\"Flat Area (in Sqft)\"]+data[\"Lot Area (in Sqft)\"]\n",
    "data[\"total area\"].head()"
   ]
  },
  {
   "cell_type": "markdown",
   "id": "bc384ca5",
   "metadata": {},
   "source": [
    "# pandas map function\""
   ]
  },
  {
   "cell_type": "code",
   "execution_count": 14,
   "id": "7f1651bc",
   "metadata": {},
   "outputs": [
    {
     "data": {
      "text/plain": [
       "array(['Fair', 'Excellent', 'Good', 'Bad', 'Okay'], dtype=object)"
      ]
     },
     "execution_count": 14,
     "metadata": {},
     "output_type": "execute_result"
    }
   ],
   "source": [
    "#data transformation:\n",
    "#Example 1:\n",
    "\n",
    "data[\"Condition of the House\"].unique()"
   ]
  },
  {
   "cell_type": "code",
   "execution_count": 15,
   "id": "a23c05d4",
   "metadata": {},
   "outputs": [
    {
     "data": {
      "image/png": "[encoded data removed]",
      "text/plain": [
       "<Figure size 640x480 with 1 Axes>"
      ]
     },
     "metadata": {},
     "output_type": "display_data"
    }
   ],
   "source": [
    "plt.bar(data[\"Condition of the House\"].unique(),data[\"column_sale\"].unique()) \n",
    "plt.show()"
   ]
  },
  {
   "cell_type": "code",
   "execution_count": 16,
   "id": "2ec2591c",
   "metadata": {},
   "outputs": [
    {
     "name": "stderr",
     "output_type": "stream",
     "text": [
      "C:\\Users\\vishvajeet\\AppData\\Local\\Temp\\ipykernel_83304\\555109500.py:4: SettingWithCopyWarning: \n",
      "A value is trying to be set on a copy of a slice from a DataFrame\n",
      "\n",
      "See the caveats in the documentation: https://pandas.pydata.org/pandas-docs/stable/user_guide/indexing.html#returning-a-view-versus-a-copy\n",
      "  data[\"Condition of the House\"][data[\"Condition of the House\"]==\"Good\"]=\"1\"\n",
      "C:\\Users\\vishvajeet\\AppData\\Local\\Temp\\ipykernel_83304\\555109500.py:5: SettingWithCopyWarning: \n",
      "A value is trying to be set on a copy of a slice from a DataFrame\n",
      "\n",
      "See the caveats in the documentation: https://pandas.pydata.org/pandas-docs/stable/user_guide/indexing.html#returning-a-view-versus-a-copy\n",
      "  data[\"Condition of the House\"][data[\"Condition of the House\"]==\"Fair\"]=\"1\"\n",
      "C:\\Users\\vishvajeet\\AppData\\Local\\Temp\\ipykernel_83304\\555109500.py:6: SettingWithCopyWarning: \n",
      "A value is trying to be set on a copy of a slice from a DataFrame\n",
      "\n",
      "See the caveats in the documentation: https://pandas.pydata.org/pandas-docs/stable/user_guide/indexing.html#returning-a-view-versus-a-copy\n",
      "  data[\"Condition of the House\"][data[\"Condition of the House\"]==\"Bad\"]=\"0\"\n",
      "C:\\Users\\vishvajeet\\AppData\\Local\\Temp\\ipykernel_83304\\555109500.py:7: SettingWithCopyWarning: \n",
      "A value is trying to be set on a copy of a slice from a DataFrame\n",
      "\n",
      "See the caveats in the documentation: https://pandas.pydata.org/pandas-docs/stable/user_guide/indexing.html#returning-a-view-versus-a-copy\n",
      "  data[\"Condition of the House\"][data[\"Condition of the House\"]==\"Okay\"]=\"0\"\n",
      "C:\\Users\\vishvajeet\\AppData\\Local\\Temp\\ipykernel_83304\\555109500.py:8: SettingWithCopyWarning: \n",
      "A value is trying to be set on a copy of a slice from a DataFrame\n",
      "\n",
      "See the caveats in the documentation: https://pandas.pydata.org/pandas-docs/stable/user_guide/indexing.html#returning-a-view-versus-a-copy\n",
      "  data[\"Condition of the House\"][data[\"Condition of the House\"]==\"Excellent\"]=\"3\"\n"
     ]
    }
   ],
   "source": [
    "#here we see the bars of bad okay are nearly equivalent to each other and similary of fair\n",
    " #and good so now we convert this 5 conditios\n",
    "#into 3 new conditions\n",
    "data[\"Condition of the House\"][data[\"Condition of the House\"]==\"Good\"]=\"1\"\n",
    "data[\"Condition of the House\"][data[\"Condition of the House\"]==\"Fair\"]=\"1\"\n",
    "data[\"Condition of the House\"][data[\"Condition of the House\"]==\"Bad\"]=\"0\"\n",
    "data[\"Condition of the House\"][data[\"Condition of the House\"]==\"Okay\"]=\"0\"\n",
    "data[\"Condition of the House\"][data[\"Condition of the House\"]==\"Excellent\"]=\"3\"\n",
    "#this is it brute force approach"
   ]
  },
  {
   "cell_type": "code",
   "execution_count": 17,
   "id": "2ee347c9",
   "metadata": {},
   "outputs": [
    {
     "data": {
      "text/plain": [
       "array(['1', '3', '0'], dtype=object)"
      ]
     },
     "execution_count": 17,
     "metadata": {},
     "output_type": "execute_result"
    }
   ],
   "source": [
    "data[\"Condition of the House\"].unique()"
   ]
  },
  {
   "cell_type": "markdown",
   "id": "801246d2",
   "metadata": {},
   "source": [
    "#this can be done using pandas map function in better way"
   ]
  },
  {
   "cell_type": "code",
   "execution_count": 18,
   "id": "27ef581d",
   "metadata": {},
   "outputs": [],
   "source": [
    "data[\"Condition of the House\"]=data[\"Condition of the House\"].map({\"Good\":\"1\",\n",
    "                                                                   \"Fair\":\"1\",\n",
    "                                                                   \"Excellent\":\"3\",\n",
    "                                                                   \"Bad\":\"0\",\n",
    "                                                                   \"Okay\":\"0\" })\n"
   ]
  },
  {
   "cell_type": "code",
   "execution_count": 19,
   "id": "4c75c380",
   "metadata": {},
   "outputs": [
    {
     "data": {
      "text/plain": [
       "array([nan], dtype=object)"
      ]
     },
     "execution_count": 19,
     "metadata": {},
     "output_type": "execute_result"
    }
   ],
   "source": [
    "data[\"Condition of the House\"].unique()"
   ]
  },
  {
   "cell_type": "code",
   "execution_count": 20,
   "id": "e26e4680",
   "metadata": {},
   "outputs": [
    {
     "data": {
      "text/plain": [
       "0         14 October 2017\n",
       "1        14 December 2017\n",
       "2        15 February 2016\n",
       "3        14 December 2017\n",
       "4        15 February 2016\n",
       "               ...       \n",
       "21608         14 May 2017\n",
       "21609    15 February 2016\n",
       "21610        14 June 2017\n",
       "21611     15 January 2016\n",
       "21612     14 October 2017\n",
       "Name: Date House was Sold, Length: 21613, dtype: object"
      ]
     },
     "execution_count": 20,
     "metadata": {},
     "output_type": "execute_result"
    }
   ],
   "source": [
    "#example 2: creating new column of year of house sold from date on house sold\n",
    "\n",
    "\n",
    "data[\"Date House was Sold\"]"
   ]
  },
  {
   "cell_type": "code",
   "execution_count": 21,
   "id": "98b8530b",
   "metadata": {},
   "outputs": [
    {
     "data": {
      "text/plain": [
       "0    2017\n",
       "1    2017\n",
       "2    2016\n",
       "3    2017\n",
       "4    2016\n",
       "Name: year, dtype: object"
      ]
     },
     "execution_count": 21,
     "metadata": {},
     "output_type": "execute_result"
    }
   ],
   "source": [
    "year=[]\n",
    "for i in range(len(data[\"Date House was Sold\"])):\n",
    "    k=data[\"Date House was Sold\"][i].split()[-1]\n",
    "    year.append(k)\n",
    "data[\"year\"]=year\n",
    "data[\"year\"].head()"
   ]
  },
  {
   "cell_type": "code",
   "execution_count": 22,
   "id": "1f3b4ae3",
   "metadata": {},
   "outputs": [
    {
     "data": {
      "text/plain": [
       "0    2017\n",
       "1    2017\n",
       "2    2016\n",
       "3    2017\n",
       "4    2016\n",
       "Name: year_sold, dtype: object"
      ]
     },
     "execution_count": 22,
     "metadata": {},
     "output_type": "execute_result"
    }
   ],
   "source": [
    "#using map function:\n",
    "def year(value):\n",
    "    return value.split()[-1]\n",
    "\n",
    "data[\"year_sold\"]=data[\"Date House was Sold\"].map(year)\n",
    "data[\"year_sold\"].head()"
   ]
  },
  {
   "cell_type": "code",
   "execution_count": 23,
   "id": "376d737e",
   "metadata": {},
   "outputs": [],
   "source": [
    "#limitation of map function is that it will perform only on single variable.for multi variable we use apply()"
   ]
  },
  {
   "cell_type": "markdown",
   "id": "0aff79e7",
   "metadata": {},
   "source": [
    "# pandas apply() function"
   ]
  },
  {
   "cell_type": "code",
   "execution_count": 24,
   "id": "3836a128",
   "metadata": {},
   "outputs": [
    {
     "name": "stderr",
     "output_type": "stream",
     "text": [
      "C:\\Users\\vishvajeet\\AppData\\Local\\Temp\\ipykernel_83304\\1491670192.py:14: SettingWithCopyWarning: \n",
      "A value is trying to be set on a copy of a slice from a DataFrame\n",
      "\n",
      "See the caveats in the documentation: https://pandas.pydata.org/pandas-docs/stable/user_guide/indexing.html#returning-a-view-versus-a-copy\n",
      "  data[\"luxury_home\"][i]=\"No\"\n"
     ]
    },
    {
     "data": {
      "text/plain": [
       "array(['No', 'Yes'], dtype=object)"
      ]
     },
     "execution_count": 24,
     "metadata": {},
     "output_type": "execute_result"
    }
   ],
   "source": [
    "data[\"luxury_home\"]=0\n",
    "\n",
    "for i in range(len(data)):\n",
    "    count=0\n",
    "    if data[\"Waterfront View\"][i]==\"Yes\":\n",
    "        count=count+1\n",
    "    if data[\"Condition of the House\"][i] in [\"Good\",\"Excellent\"]:\n",
    "        count=count+1\n",
    "    if data[\"Overall Grade\"][i]>=8:\n",
    "        count=count+1\n",
    "    if count>=2:\n",
    "        data[\"luxury_home\"][i]=\"Yes\"\n",
    "    else:\n",
    "        data[\"luxury_home\"][i]=\"No\"\n",
    "        \n",
    "data[\"luxury_home\"].unique()"
   ]
  },
  {
   "cell_type": "code",
   "execution_count": 25,
   "id": "3eff3ffb",
   "metadata": {},
   "outputs": [
    {
     "data": {
      "text/plain": [
       "array(['NO', 'Yes'], dtype=object)"
      ]
     },
     "execution_count": 25,
     "metadata": {},
     "output_type": "execute_result"
    }
   ],
   "source": [
    "#same example using apply function\n",
    "\n",
    "def luxury_home(row):\n",
    "    count=0\n",
    "    if row[0]==\"Yes\":\n",
    "        count=count+1\n",
    "    if row[1] in [\"Good\",\"Excellent\"]:\n",
    "        count=count+1\n",
    "    if row[2]>=8:\n",
    "        count=count+1\n",
    "    if count>=2:\n",
    "        return \"Yes\"\n",
    "    else:\n",
    "        return \"NO\"\n",
    "    \n",
    "data[\"luxury_home\"]=data[[\"Waterfront View\",\"Condition of the House\",\"Overall Grade\"]].apply(luxury_home,axis=1)\n",
    "data[\"luxury_home\"].unique()"
   ]
  }
 ],
 "metadata": {
  "kernelspec": {
   "display_name": "Python 3 (ipykernel)",
   "language": "python",
   "name": "python3"
  },
  "language_info": {
   "codemirror_mode": {
    "name": "ipython",
    "version": 3
   },
   "file_extension": ".py",
   "mimetype": "text/x-python",
   "name": "python",
   "nbconvert_exporter": "python",
   "pygments_lexer": "ipython3",
   "version": "3.11.5"
  }
 },
 "nbformat": 4,
 "nbformat_minor": 5
}
